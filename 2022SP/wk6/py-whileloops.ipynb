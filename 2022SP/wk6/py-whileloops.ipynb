{
 "cells": [
  {
   "cell_type": "markdown",
   "metadata": {},
   "source": [
    "# CALVIN CORDOVA\n",
    "## Week6: 2/22/2022\n",
    "### Python While loops"
   ]
  },
  {
   "cell_type": "markdown",
   "metadata": {},
   "source": [
    "**The general format of Python while loops:**\n",
    "\n",
    "<code>while test:\n",
    "        statements </code>\n",
    "        "
   ]
  },
  {
   "cell_type": "code",
   "execution_count": 1,
   "metadata": {},
   "outputs": [
    {
     "name": "stdout",
     "output_type": "stream",
     "text": [
      "num is currently:  1\n",
      "num is less than or equal 6, now adding 1 to num\n",
      "num is currently:  2\n",
      "num is less than or equal 6, now adding 1 to num\n",
      "num is currently:  3\n",
      "num is less than or equal 6, now adding 1 to num\n",
      "num is currently:  4\n",
      "num is less than or equal 6, now adding 1 to num\n",
      "num is currently:  5\n",
      "num is less than or equal 6, now adding 1 to num\n",
      "num is currently:  6\n",
      "num is less than or equal 6, now adding 1 to num\n",
      "stop while loop\n",
      "num after while loop is currently: 7\n"
     ]
    }
   ],
   "source": [
    "num = 1\n",
    "while num <=6:\n",
    "    print ('num is currently: ', num)\n",
    "    print ('num is less than or equal 6, now adding 1 to num')\n",
    "    num = num +1\n",
    "else:\n",
    "    print ('stop while loop')\n",
    "    print ('num after while loop is currently:',num)"
   ]
  },
  {
   "cell_type": "code",
   "execution_count": 2,
   "metadata": {},
   "outputs": [
    {
     "name": "stdout",
     "output_type": "stream",
     "text": [
      "sum =  55\n"
     ]
    }
   ],
   "source": [
    "num=1\n",
    "sum=0\n",
    "\n",
    "while num <= 10:\n",
    "    sum = sum + num\n",
    "    num = num + 1 #num++\n",
    "else:\n",
    "    print ('sum = ', sum)\n"
   ]
  },
  {
   "cell_type": "code",
   "execution_count": 3,
   "metadata": {},
   "outputs": [
    {
     "name": "stdout",
     "output_type": "stream",
     "text": [
      "10\n",
      "12\n",
      "13\n",
      "14\n",
      "15\n"
     ]
    }
   ],
   "source": [
    "a = [10,12,13,14,15]\n",
    "i = 0\n",
    "while i < len(a):\n",
    "    print (a[i])\n",
    "    i+=1 # i= i +1"
   ]
  },
  {
   "cell_type": "code",
   "execution_count": 4,
   "metadata": {},
   "outputs": [
    {
     "name": "stdout",
     "output_type": "stream",
     "text": [
      "15\n",
      "14\n",
      "13\n",
      "12\n",
      "10\n"
     ]
    }
   ],
   "source": [
    "a = [10,12,13,14,15]\n",
    "while a:\n",
    "    print(a.pop())"
   ]
  },
  {
   "cell_type": "code",
   "execution_count": 5,
   "metadata": {},
   "outputs": [
    {
     "data": {
      "text/plain": [
       "[]"
      ]
     },
     "execution_count": 5,
     "metadata": {},
     "output_type": "execute_result"
    }
   ],
   "source": [
    "a"
   ]
  },
  {
   "cell_type": "code",
   "execution_count": 6,
   "metadata": {},
   "outputs": [
    {
     "name": "stdout",
     "output_type": "stream",
     "text": [
      "num is currently: 2\n",
      "num is less than 10, now adding 1 to num\n",
      "num is currently: 4\n",
      "num is less than 10, now adding 1 to num\n",
      "num is currently: 6\n",
      "num is less than 10, now adding 1 to num\n",
      "num is currently: 8\n",
      "num is less than 10, now adding 1 to num\n",
      "num is currently: 10\n",
      "num is less than 10, now adding 1 to num\n"
     ]
    }
   ],
   "source": [
    "#continue keyword\n",
    "num = 0\n",
    "while num < 10:\n",
    "    num +=1\n",
    "    if num % 2 ==1:\n",
    "        continue\n",
    "    else:\n",
    "        print ('num is currently:',num)\n",
    "        print ('num is less than 10, now adding 1 to num')\n",
    "    num+= 1\n"
   ]
  },
  {
   "cell_type": "code",
   "execution_count": 7,
   "metadata": {},
   "outputs": [
    {
     "name": "stdout",
     "output_type": "stream",
     "text": [
      "c\n",
      "s\n",
      "1\n",
      "D\n",
      "t\n",
      "A\n",
      "a\n",
      "y\n",
      "i\n",
      "s\n",
      "l\n",
      "s\n"
     ]
    }
   ],
   "source": [
    "#pass\n",
    "a = 'cis310DataAnalyticsClass'\n",
    "i = 0\n",
    "\n",
    "while i< len(a):\n",
    "    if (i % 2==0):\n",
    "        print (a[i])\n",
    "    else:\n",
    "        pass\n",
    "    i+=1"
   ]
  },
  {
   "cell_type": "code",
   "execution_count": 8,
   "metadata": {},
   "outputs": [
    {
     "name": "stdout",
     "output_type": "stream",
     "text": [
      "num is currently: 1\n",
      "num is less than 10, now assing 1 to num, if num!=5\n",
      "num is currently: 2\n",
      "num is less than 10, now assing 1 to num, if num!=5\n",
      "num is currently: 3\n",
      "num is less than 10, now assing 1 to num, if num!=5\n",
      "num is currently: 4\n",
      "num is less than 10, now assing 1 to num, if num!=5\n",
      "num is currently: 5\n",
      "num is less than 10, now assing 1 to num, if num!=5\n"
     ]
    }
   ],
   "source": [
    "#break keyword\n",
    "\n",
    "num=1\n",
    "\n",
    "while num < 10:\n",
    "    print('num is currently:',num)\n",
    "    print('num is less than 10, now assing 1 to num, if num!=5')\n",
    "    if num==5:\n",
    "        break\n",
    "    num+=1\n",
    "    "
   ]
  },
  {
   "cell_type": "code",
   "execution_count": 10,
   "metadata": {},
   "outputs": [
    {
     "name": "stdout",
     "output_type": "stream",
     "text": [
      "the Current Letter: c\n",
      "the Current Letter: i\n",
      "the Current Letter: s\n",
      "the Current Letter: 3\n"
     ]
    }
   ],
   "source": [
    "# break the loop as soon it see 'a'\n",
    "# or '1'\n",
    "a = 'cis310DataAnalyticsClass'\n",
    "i=0\n",
    "\n",
    "while i < len(a):\n",
    "    if a [i]== 'a' or a[i]== '1':\n",
    "        break\n",
    "    print ('the Current Letter:', a[i])\n",
    "    i+=1"
   ]
  },
  {
   "cell_type": "code",
   "execution_count": 4,
   "metadata": {},
   "outputs": [
    {
     "name": "stdout",
     "output_type": "stream",
     "text": [
      "the Current Letter: 0 : c\n",
      "the Current Letter: 1 : i\n",
      "the Current Letter: 2 : s\n",
      "the Current Letter: 3 : 3\n"
     ]
    }
   ],
   "source": [
    "#will continue\n",
    "a = 'cis310DataAnalyticsClass'\n",
    "i=0\n",
    "while i < len(a):\n",
    "    if a [i]== 'a' or a[i]== '1':\n",
    "        break\n",
    "    print ('the Current Letter:',i,\":\", a[i])\n",
    "    i+=1"
   ]
  },
  {
   "cell_type": "code",
   "execution_count": null,
   "metadata": {},
   "outputs": [],
   "source": []
  }
 ],
 "metadata": {
  "kernelspec": {
   "display_name": "Python 3.7 - default",
   "language": "python",
   "name": "py37_default"
  },
  "language_info": {
   "codemirror_mode": {
    "name": "ipython",
    "version": 3
   },
   "file_extension": ".py",
   "mimetype": "text/x-python",
   "name": "python",
   "nbconvert_exporter": "python",
   "pygments_lexer": "ipython3",
   "version": "3.7.7"
  }
 },
 "nbformat": 4,
 "nbformat_minor": 4
}
