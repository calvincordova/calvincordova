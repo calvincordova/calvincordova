{
 "cells": [
  {
   "cell_type": "markdown",
   "metadata": {},
   "source": [
    "# CALVIN CORDOVA\n",
    "## Week6: 2/24/2022\n",
    "### Python- List, Set, and Dictionary Comprehension"
   ]
  },
  {
   "cell_type": "markdown",
   "metadata": {},
   "source": [
    "# List Comprehension\n",
    "\n",
    "<code> new_list = [expression for member in interable] <code/>\n",
    "    \n",
    "\n",
    "## Using Conditional Logic\n",
    "    \n",
    "<code> new_list = [expression for member in iterable (if conditional)\n",
    "<code/>\n",
    "    \n",
    "<code> new_list = [expression (if conditional) for member in ilertable]\n",
    "<code/>\n"
   ]
  },
  {
   "cell_type": "code",
   "execution_count": 1,
   "metadata": {},
   "outputs": [
    {
     "name": "stdout",
     "output_type": "stream",
     "text": [
      "['C', 'I', 'S', '3', '1', '0', 'd', 'a', 't', 'a']\n"
     ]
    }
   ],
   "source": [
    "lst = []\n",
    "\n",
    "for letter in 'CIS310data':\n",
    "    lst.append(letter)\n",
    "    \n",
    "print (lst)"
   ]
  },
  {
   "cell_type": "code",
   "execution_count": 2,
   "metadata": {},
   "outputs": [
    {
     "name": "stdout",
     "output_type": "stream",
     "text": [
      "['C', 'I', 'S', '3', '1', '0', 'D', 'a', 't', 'a']\n"
     ]
    }
   ],
   "source": [
    "'''\n",
    "Syntax of the list comprehension\n",
    "[expression for item in list]\n",
    "'''\n",
    "lst= [letter for letter in 'CIS310Data']\n",
    "print(lst)"
   ]
  },
  {
   "cell_type": "code",
   "execution_count": 3,
   "metadata": {},
   "outputs": [
    {
     "data": {
      "text/plain": [
       "[0, 1, 4, 9, 16, 25, 36, 49, 64, 81, 100]"
      ]
     },
     "execution_count": 3,
     "metadata": {},
     "output_type": "execute_result"
    }
   ],
   "source": [
    "squares = []\n",
    "\n",
    "\n",
    "for i in range(11):\n",
    "    squares.append(i*i)\n",
    "\n",
    "squares\n",
    "    \n"
   ]
  },
  {
   "cell_type": "code",
   "execution_count": 5,
   "metadata": {},
   "outputs": [
    {
     "data": {
      "text/plain": [
       "[0, 1, 4, 9, 16, 25, 36, 49, 64, 81, 100]"
      ]
     },
     "execution_count": 5,
     "metadata": {},
     "output_type": "execute_result"
    }
   ],
   "source": [
    "squares = [n*n for n in range(11)]\n",
    "squares"
   ]
  },
  {
   "cell_type": "code",
   "execution_count": 10,
   "metadata": {},
   "outputs": [
    {
     "data": {
      "text/plain": [
       "[0, 4, 16, 36, 64, 100]"
      ]
     },
     "execution_count": 10,
     "metadata": {},
     "output_type": "execute_result"
    }
   ],
   "source": [
    "# Filter the data\n",
    "lst1 = [n*n for n in range(11)if n %2 == 0]\n",
    "lst1"
   ]
  },
  {
   "cell_type": "code",
   "execution_count": 11,
   "metadata": {},
   "outputs": [
    {
     "data": {
      "text/plain": [
       "[1, 9, 25, 49, 81]"
      ]
     },
     "execution_count": 11,
     "metadata": {},
     "output_type": "execute_result"
    }
   ],
   "source": [
    "lst2 = [n*n for n in range(11)if n %2 != 0]\n",
    "lst2"
   ]
  },
  {
   "cell_type": "code",
   "execution_count": 12,
   "metadata": {},
   "outputs": [
    {
     "data": {
      "text/plain": [
       "['o',\n",
       " 'u',\n",
       " 'i',\n",
       " 'a',\n",
       " 'e',\n",
       " 'u',\n",
       " 'e',\n",
       " 'i',\n",
       " 'a',\n",
       " 'a',\n",
       " 'i',\n",
       " 'a',\n",
       " 'i',\n",
       " 'i',\n",
       " 'a',\n",
       " 'a',\n",
       " 'i',\n",
       " 'a',\n",
       " 'i']"
      ]
     },
     "execution_count": 12,
     "metadata": {},
     "output_type": "execute_result"
    }
   ],
   "source": [
    "s= 'CIS310 communicate students with analytical thinking and practical skills'\n",
    "\n",
    "vowels = [l for l in s if l in 'aeiou']\n",
    "vowels"
   ]
  },
  {
   "cell_type": "code",
   "execution_count": 14,
   "metadata": {},
   "outputs": [
    {
     "data": {
      "text/plain": [
       "[1.25, 0, 10.22, 3.78, 0, 1.16]"
      ]
     },
     "execution_count": 14,
     "metadata": {},
     "output_type": "execute_result"
    }
   ],
   "source": [
    "prices = [1.25,-9.45,10.22,3.78,-5.92,1.16]\n",
    "new_prices=[v if v > 0 else 0 for v in prices]\n",
    "new_prices"
   ]
  },
  {
   "cell_type": "code",
   "execution_count": null,
   "metadata": {},
   "outputs": [],
   "source": []
  }
 ],
 "metadata": {
  "kernelspec": {
   "display_name": "Python 3.7 - default",
   "language": "python",
   "name": "py37_default"
  },
  "language_info": {
   "codemirror_mode": {
    "name": "ipython",
    "version": 3
   },
   "file_extension": ".py",
   "mimetype": "text/x-python",
   "name": "python",
   "nbconvert_exporter": "python",
   "pygments_lexer": "ipython3",
   "version": "3.7.7"
  }
 },
 "nbformat": 4,
 "nbformat_minor": 4
}
